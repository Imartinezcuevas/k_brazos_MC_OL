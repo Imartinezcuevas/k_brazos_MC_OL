{
  "cells": [
    {
      "cell_type": "markdown",
      "metadata": {
        "colab_type": "text",
        "id": "view-in-github"
      },
      "source": [
        "<a href=\"https://colab.research.google.com/github/Imartinezcuevas/k_brazos_MC_OL/blob/main/bandit_experiment.ipynb\" target=\"_parent\"><img src=\"https://colab.research.google.com/assets/colab-badge.svg\" alt=\"Open In Colab\"/></a>"
      ]
    },
    {
      "cell_type": "markdown",
      "id": "45718ddbdacc17ac",
      "metadata": {
        "id": "45718ddbdacc17ac"
      },
      "source": [
        "# Estudio comparativo de algoritmos en un problema de k-armed bandit\n",
        "\n",
        "*Description:* El experimento compara el rendimiento de algoritmos epsilon-greedy en un problema de k-armed bandit.\n",
        "Se generan gráficas de recompensas promedio para cada algoritmo.\n",
        "\n",
        "    Author: Iván Martínez Cuevas y Antonio Orenes Lucas\n",
        "    Email: ivan.martinezc@um.es y antonio.orenesl@um.es\n",
        "    Date: 2025/02/12\n",
        "\n",
        "This software is licensed under the GNU General Public License v3.0 (GPL-3.0),\n",
        "with the additional restriction that it may not be used for commercial purposes.\n",
        "\n",
        "For more details about GPL-3.0: https://www.gnu.org/licenses/gpl-3.0.html"
      ]
    },
    {
      "cell_type": "markdown",
      "id": "7c1697e197fa5a08",
      "metadata": {
        "id": "7c1697e197fa5a08"
      },
      "source": [
        "## Preparación del entorno\n"
      ]
    },
    {
      "cell_type": "code",
      "execution_count": 1,
      "id": "bf5905976fb24fe",
      "metadata": {
        "cellView": "form",
        "colab": {
          "base_uri": "https://localhost:8080/"
        },
        "id": "bf5905976fb24fe",
        "outputId": "441baa4d-f145-4c87-8c8e-ba1a6319188c"
      },
      "outputs": [
        {
          "name": "stdout",
          "output_type": "stream",
          "text": [
            "Cloning into 'k_brazos_MC_OL'...\n",
            "remote: Enumerating objects: 45, done.\u001b[K\n",
            "remote: Counting objects: 100% (45/45), done.\u001b[K\n",
            "remote: Compressing objects: 100% (32/32), done.\u001b[K\n",
            "remote: Total 45 (delta 17), reused 39 (delta 11), pack-reused 0 (from 0)\u001b[K\n",
            "Receiving objects: 100% (45/45), 148.19 KiB | 3.22 MiB/s, done.\n",
            "Resolving deltas: 100% (17/17), done.\n"
          ]
        }
      ],
      "source": [
        "#@title Copiar el repositorio.\n",
        "\n",
        "!git clone https://github.com/Imartinezcuevas/k_brazos_MC_OL.git\n",
        "!cd k_brazos_MC_OL/"
      ]
    },
    {
      "cell_type": "code",
      "execution_count": 2,
      "id": "4582eec6",
      "metadata": {
        "ExecuteTime": {
          "end_time": "2025-01-29T15:16:53.845102Z",
          "start_time": "2025-01-29T15:16:53.842529Z"
        },
        "cellView": "form",
        "colab": {
          "base_uri": "https://localhost:8080/"
        },
        "id": "4582eec6",
        "outputId": "fd22635c-330d-4b08-e5d3-808220576372"
      },
      "outputs": [
        {
          "name": "stdout",
          "output_type": "stream",
          "text": [
            "['/content', '/env/python', '/usr/lib/python311.zip', '/usr/lib/python3.11', '/usr/lib/python3.11/lib-dynload', '', '/usr/local/lib/python3.11/dist-packages', '/usr/lib/python3/dist-packages', '/usr/local/lib/python3.11/dist-packages/IPython/extensions', '/usr/local/lib/python3.11/dist-packages/setuptools/_vendor', '/root/.ipython', '/content/k_brazos_MC_OL/src']\n"
          ]
        }
      ],
      "source": [
        "#@title Importamos todas las clases y funciones\n",
        "\n",
        "import sys\n",
        "\n",
        "# Añadir los directorio fuentes al path de Python\n",
        "sys.path.append('/content/k_brazos_MC_OL/src')\n",
        "\n",
        "\n",
        "# Verificar que se han añadido correctamente\n",
        "print(sys.path)\n",
        "\n",
        "import numpy as np\n",
        "from typing import List\n",
        "\n",
        "from algorithms import Algorithm, EpsilonGreedy\n",
        "from arms import ArmNormal, Bandit\n",
        "from plotting import plot_average_rewards, plot_optimal_selections, plot_accumulated_regret, plot_arm_statistics\n"
      ]
    },
    {
      "cell_type": "markdown",
      "id": "4e67de1a19a3698f",
      "metadata": {
        "id": "4e67de1a19a3698f"
      },
      "source": [
        "## Experimento\n",
        "\n",
        "Cada algoritmo se ejecuta en un problema de k-armed bandit durante un número de pasos de tiempo y ejecuciones determinado.\n",
        "Se comparan los resultados de los algoritmos en términos de recompensa promedio.\n",
        "\n",
        "Por ejemplo. Dado un bandido de k-brazos, se ejecutan dos algoritmos epsilon-greedy con diferentes valores de epsilon. Se estudia la evolución de cada política  en un número de pasos, por ejemplo, mil pasos. Entonces se repite el experimento un número de veces, por ejemplo, 500 veces. Es decir, se ejecutan 500 veces la evolución de cada algoritmo en 1000 pasos. Para cada paso calculamos el promedio de las recoponensas obtenidas en esas 500 veces."
      ]
    },
    {
      "cell_type": "code",
      "execution_count": null,
      "id": "7377ca48ee0f5946",
      "metadata": {
        "ExecuteTime": {
          "end_time": "2025-01-29T15:16:55.712927Z",
          "start_time": "2025-01-29T15:16:55.705949Z"
        },
        "id": "7377ca48ee0f5946"
      },
      "outputs": [],
      "source": [
        "\n",
        "def run_experiment(bandit: Bandit, algorithms: List[Algorithm], steps: int, runs: int):\n",
        "\n",
        "    optimal_arm = bandit.optimal_arm  # Necesario para calcular el porcentaje de selecciones óptimas.\n",
        "\n",
        "    rewards = np.zeros((len(algorithms), steps)) # Matriz para almacenar las recompensas promedio.\n",
        "    regrets = np.zeros((len(algorithms), steps))  # Matriz para almacenar el regret acumulado.\n",
        "\n",
        "    optimal_selections = np.zeros((len(algorithms), steps))  # Matriz para almacenar el porcentaje de selecciones óptimas.\n",
        "\n",
        "    # Para almacenar selecciones y recompensas promedio de cada brazo por algoritmo\n",
        "    arm_counts = np.zeros((len(algorithms), bandit.k))  # Número de selecciones por brazo\n",
        "    arm_rewards = np.zeros((len(algorithms), bandit.k))  # Suma de recompensas por brazo\n",
        "    \n",
        "    np.random.seed(seed)  # Asegurar reproducibilidad de resultados.\n",
        "\n",
        "    for run in range(runs):\n",
        "        current_bandit = Bandit(arms=bandit.arms)\n",
        "        # Obtener la recompensa esperada óptima.\n",
        "        optimal_reward = current_bandit.pull_arm(optimal_arm)\n",
        "\n",
        "        for algo in algorithms:\n",
        "            algo.reset() # Reiniciar los valores de los algoritmos.\n",
        "\n",
        "        total_rewards_per_algo = np.zeros(len(algorithms)) # Acumulador de recompensas por algoritmo. Necesario para calcular el promedio.\n",
        "\n",
        "        for step in range(steps):\n",
        "            for idx, algo in enumerate(algorithms):\n",
        "                chosen_arm = algo.select_arm() # Seleccionar un brazo según la política del algoritmo.\n",
        "                reward = current_bandit.pull_arm(chosen_arm) # Obtener la recompensa del brazo seleccionado.\n",
        "                algo.update(chosen_arm, reward) # Actualizar el valor estimado del brazo seleccionado.\n",
        "\n",
        "                rewards[idx, step] += reward # Acumular la recompensa obtenida en la matriz rewards para el algoritmo idx en el paso step.\n",
        "                total_rewards_per_algo[idx] += reward # Acumular la recompensa obtenida en total_rewards_per_algo para el algoritmo idx.\n",
        "                regrets[idx, step] += optimal_reward*step - total_rewards_per_algo[idx] # Acumular el regret en la matriz regrets para el algoritmo idx en el paso step.\n",
        "\n",
        "                #TODO: modificar optimal_selections cuando el brazo elegido se corresponda con el brazo óptimo optimal_arm\n",
        "                # Modificar optimal_selections cuando el brazo elegido se corresponda con el brazo óptimo optimal_arm\",\n",
        "                if chosen_arm == optimal_arm:\n",
        "                    optimal_selections[idx, step] += 1\n",
        "\n",
        "                # Registrar número de selecciones y recompensas por brazo\n",
        "                arm_counts[idx, chosen_arm] += 1\n",
        "                arm_rewards[idx, chosen_arm] += reward\n",
        "\n",
        "\n",
        "    rewards /= runs\n",
        "    regrets /= runs  # Calcular el promedio del regret acumulado\n",
        "    arm_avg_rewards = np.divide(arm_rewards, arm_counts, out=np.zeros_like(arm_rewards), where=arm_counts != 0)\n",
        "    # TODO: calcular el porcentaje de selecciones óptimas y almacenar en optimal_selections\n",
        "    optimal_selections = (optimal_selections / runs) * 100  # Convertir a porcentaje\n",
        "\n",
        "    return rewards, optimal_selections, regrets, arm_counts, arm_avg_rewards"
      ]
    },
    {
      "cell_type": "markdown",
      "id": "3fb5453755a2b2a8",
      "metadata": {
        "id": "3fb5453755a2b2a8"
      },
      "source": [
        "## Ejecución del experimento\n",
        "\n",
        "Se realiza el experimento usando 10 brazos, cada uno de acuerdo a una distribución gaussina con desviación 1. Se realizan 500 ejecuciones de 1000 pasos cada una. Se contrastan 3 algoritmos epsilon greedy para valores epsilon: 0.0, 0.01, y 0.1."
      ]
    },
    {
      "cell_type": "code",
      "execution_count": null,
      "id": "157bf5cc",
      "metadata": {
        "ExecuteTime": {
          "end_time": "2025-01-29T15:17:02.644124Z",
          "start_time": "2025-01-29T15:16:59.172459Z"
        },
        "colab": {
          "base_uri": "https://localhost:8080/"
        },
        "id": "157bf5cc",
        "outputId": "cd5a7d50-3f26-4ffb-d011-b6545283b1eb"
      },
      "outputs": [
        {
          "name": "stdout",
          "output_type": "stream",
          "text": [
            "Bandit with 10 arms: ArmNormal(mu=1.52, sigma=1.0), ArmNormal(mu=2.4, sigma=1.0), ArmNormal(mu=1.19, sigma=1.0), ArmNormal(mu=4.37, sigma=1.0), ArmNormal(mu=6.39, sigma=1.0), ArmNormal(mu=7.59, sigma=1.0), ArmNormal(mu=8.8, sigma=1.0), ArmNormal(mu=9.56, sigma=1.0), ArmNormal(mu=6.41, sigma=1.0), ArmNormal(mu=7.37, sigma=1.0)\n",
            "Optimal arm: 8 with expected reward=9.56\n"
          ]
        }
      ],
      "source": [
        "\n",
        "# Parámetros del experimento\n",
        "seed = 42\n",
        "np.random.seed(seed)  # Fijar la semilla para reproducibilidad\n",
        "\n",
        "k = 10  # Número de brazos\n",
        "steps = 1000  # Número de pasos que se ejecutarán cada algoritmo\n",
        "runs = 500  # Número de ejecuciones\n",
        "\n",
        "# Creación del bandit\n",
        "bandit = Bandit(arms=ArmNormal.generate_arms(k)) # Generar un bandido con k brazos de distribución normal\n",
        "print(bandit)\n",
        "\n",
        "optimal_arm = bandit.optimal_arm\n",
        "print(f\"Optimal arm: {optimal_arm + 1} with expected reward={bandit.get_expected_value(optimal_arm)}\")\n",
        "\n",
        "# Definir los algoritmos a comparar. En este caso son 3 algoritmos epsilon-greedy con diferentes valores de epsilon.\n",
        "algorithms = [EpsilonGreedy(k=k, epsilon=0), EpsilonGreedy(k=k, epsilon=0.01), EpsilonGreedy(k=k, epsilon=0.1)]\n",
        "\n",
        "# Ejecutar el experimento y obtener las recompensas promedio y promedio de las selecciones óptimas\n",
        "rewards, optimal_selections, regrets, arm_counts, arm_rewards = run_experiment(bandit, algorithms, steps, runs)"
      ]
    },
    {
      "cell_type": "markdown",
      "id": "573c9612c3b14efb",
      "metadata": {
        "id": "573c9612c3b14efb"
      },
      "source": [
        "## Visualización de los resultados"
      ]
    },
    {
      "cell_type": "code",
      "execution_count": null,
      "id": "d3fd68ee",
      "metadata": {
        "ExecuteTime": {
          "end_time": "2025-01-29T15:17:07.750227Z",
          "start_time": "2025-01-29T15:17:07.603719Z"
        },
        "colab": {
          "base_uri": "https://localhost:8080/",
          "height": 1000
        },
        "id": "d3fd68ee",
        "outputId": "e71a1090-861d-43be-f01f-4d59cd595c52"
      },
      "outputs": [],
      "source": [
        "# Graficar los resultados\n",
        "plot_average_rewards(steps, rewards, algorithms)"
      ]
    },
    {
      "cell_type": "markdown",
      "id": "29fcd95b7fca79de",
      "metadata": {
        "id": "29fcd95b7fca79de"
      },
      "source": [
        "### Análisis detallado de la imagen\n",
        "\n",
        "La imagen muestra un gráfico de líneas titulado **\"Recompensa Promedio vs Pasos de Tiempo\"**, donde se analiza el desempeño de diferentes estrategias del algoritmo **ε-Greedy** en un entorno de multi-armed bandit. En el eje **x** se representan los **pasos de tiempo**, mientras que en el eje **y** se muestra la **recompensa promedio** obtenida por cada algoritmo.\n",
        "\n",
        "\n",
        "1. **Tres líneas de colores distintos representan diferentes valores de ε en el algoritmo ε-Greedy:**\n",
        "   - **Azul (ε = 0):** Representa una estrategia completamente **explotadora**, es decir, que siempre elige la acción que ha dado la mejor recompensa hasta ahora sin explorar nuevas opciones.\n",
        "   - **Naranja (ε = 0.01):** Representa una estrategia con una pequeña probabilidad del 1% de elegir una acción aleatoria (exploración).\n",
        "   - **Verde (ε = 0.1):** Representa una estrategia con un 10% de probabilidad de explorar acciones aleatorias.\n",
        "\n",
        "2. **Crecimiento de la recompensa promedio:**\n",
        "   - La línea **verde (ε=0.1)** alcanza rápidamente una recompensa promedio alta, lo que indica que la estrategia con mayor exploración aprende más rápido qué brazos del bandit son óptimos.\n",
        "   - La línea **naranja (ε=0.01)** también muestra un crecimiento, pero más lento en comparación con ε=0.1.\n",
        "   - La línea **azul (ε=0)** se mantiene en un nivel bajo de recompensa, lo que sugiere que no logra encontrar el mejor brazo porque no explora nuevas opciones.\n",
        "\n",
        "---\n",
        "\n",
        "\n",
        "\n"
      ]
    },
    {
      "cell_type": "code",
      "execution_count": null,
      "id": "5fccf29e",
      "metadata": {},
      "outputs": [],
      "source": [
        "plot_optimal_selections(steps, optimal_selections, algorithms)\n",
        "plot_regret(steps, regrets, algorithms)\n",
        "plot_arm_statistics(k, arm_counts, arm_rewards, optimal_arm, algorithms)"
      ]
    },
    {
      "cell_type": "markdown",
      "id": "772d266f",
      "metadata": {},
      "source": []
    },
    {
      "cell_type": "markdown",
      "id": "4207366e56a23449",
      "metadata": {
        "id": "4207366e56a23449"
      },
      "source": [
        "## Conclusiones\n",
        "\n",
        "Hemos estudiado un  **experimento de toma de decisiones secuenciales**, modelado con un **Multi-Armed Bandit (MAB)**. Este problema es fundamental en el aprendizaje por refuerzo y la teoría de decisiones. La idea principal es que un agente debe aprender cuál es la mejor acción (brazo del bandit) a partir de la experiencia acumulada. Para este estudio nos hemos centrado solo en el estudio del algoritmo epsilon-greedy, llegando a las siguientes conclusiones a partir de los resultados obtenidos y la gráfica generada:\n",
        "\n",
        "#### **1. Exploración vs Explotación**\n",
        "El algoritmo **ε-Greedy** equilibra la exploración y la explotación:\n",
        "- **Explotación (ε=0)**: Siempre elige la mejor opción conocida, pero si inicialmente se selecciona un brazo subóptimo, nunca descubrirá otras opciones más rentables.\n",
        "- **Exploración (ε>0)**: Introduce aleatoriedad en la selección de acciones para descubrir nuevas opciones potencialmente mejores.\n",
        "\n",
        "El gráfico confirma este comportamiento:\n",
        "- **ε=0.1 (verde)** obtiene la mejor recompensa promedio a lo largo del tiempo porque explora lo suficiente como para encontrar rápidamente el mejor brazo.\n",
        "- **ε=0.01 (naranja)** explora menos, por lo que tarda más en converger a una recompensa alta.\n",
        "- **ε=0 (azul)** no explora en absoluto y queda atrapado en una recompensa subóptima.\n",
        "\n",
        "#### **2. Convergencia de los algoritmos**\n",
        "Los algoritmos con mayor exploración (ε=0.1) alcanzan una recompensa alta más rápido. Esto se debe a que:\n",
        "- Al principio, el algoritmo **no tiene información suficiente** sobre cuál es el mejor brazo.\n",
        "- Con el tiempo, al realizar exploraciones, descubre cuál es el mejor brazo y empieza a explotarlo más.\n",
        "- Un **balance entre exploración y explotación** es clave para maximizar la recompensa a largo plazo.\n",
        "\n",
        "\n",
        "#### **3. Aplicaciones y conclusiones**\n",
        "- En problemas de toma de decisiones **(ejemplo: recomendaciones, optimización de anuncios, medicina personalizada)**, una estrategia de exploración moderada como **ε=0.1** es más efectiva para encontrar la mejor opción rápidamente.\n",
        "- **La falta de exploración (ε=0)** lleva a un desempeño deficiente, ya que el agente puede quedarse atrapado en una elección subóptima.\n",
        "\n",
        "En conclusión, **el gráfico muestra cómo un nivel adecuado de exploración mejora significativamente el rendimiento del algoritmo en un entorno de aprendizaje por refuerzo**. 🚀"
      ]
    }
  ],
  "metadata": {
    "colab": {
      "include_colab_link": true,
      "provenance": []
    },
    "kernelspec": {
      "display_name": "base",
      "language": "python",
      "name": "python3"
    },
    "language_info": {
      "name": "python",
      "version": "3.12.2"
    }
  },
  "nbformat": 4,
  "nbformat_minor": 5
}
